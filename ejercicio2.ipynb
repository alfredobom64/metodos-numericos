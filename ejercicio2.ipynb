{
 "cells": [
  {
   "cell_type": "code",
   "execution_count": null,
   "metadata": {
    "collapsed": false
   },
   "outputs": [],
   "source": [
    "import math\n",
    "import numpy as np\n",
    "import pylab as pl\n",
    "masa = 68.1\n",
    "resistencia = 12.5\n",
    "gravedad = 9.8\n",
    "error = 0.0005\n",
    "cont = 0\n",
    "velocidad_actual = 0\n",
    "velocidad_aprox = 0\n",
    "velocidad_exacta = 0\n",
    "errores = 1\n",
    "contador = []\n",
    "velocidad_ex = []\n",
    "velocidad_ap = []\n",
    "for x in xrange(100):\n",
    "\n",
    "    if errores >= error:\n",
    "        velocidad_exacta = ((gravedad*masa)/resistencia)*(1-math.exp(-(resistencia/masa)*cont)) #euler\n",
    "        velocidad_aprox = velocidad_actual+(gravedad-((resistencia/masa)*velocidad_actual))*((cont+1)-cont) #numerica\n",
    "        velocidad_actual = velocidad_aprox # actual = numerica\n",
    "        contador.append(cont)\n",
    "       \n",
    "        velocidad_ex.append(velocidad_exacta)\n",
    "        velocidad_ap.append(velocidad_aprox)\n",
    "        if cont > 1:\n",
    "            errores = (velocidad_aprox-velocidad_exacta)/velocidad_exacta\n",
    "        print (\"%d ------------------\") % cont\n",
    "        print (\"La velocidad exacta es: %f\") % velocidad_exacta\n",
    "        print (\"La velocidad aproximada es: %f\") % velocidad_aprox\n",
    "        print (\"El error es: %f\") % errores\n",
    "ex = pl.plot(contador, velocidad_ex, \"r\")\n",
    "ap = pl.plot(contador, velocidad_ap, \"g\")\n",
    "pl.title(\"Velocidades de caida\")\n",
    "pl.xlabel(\"Tiempo\")\n",
    "pl.ylabel(\"Velocidad\")\n",
    "pl.xlim(0.0, 50)\n",
    "pl.ylim(0.0, 60)\n",
    "pl.legend([ex, ap], (\"Velocidad exacta\", \"Velocidad aproximada\"), \"best\", numpoints=1)\n",
    "pl.show()"
   ]
  },
  {
   "cell_type": "code",
   "execution_count": null,
   "metadata": {
    "collapsed": true
   },
   "outputs": [],
   "source": []
  }
 ],
 "metadata": {
  "kernelspec": {
   "display_name": "Python 2",
   "language": "python",
   "name": "python2"
  },
  "language_info": {
   "codemirror_mode": {
    "name": "ipython",
    "version": 2
   },
   "file_extension": ".py",
   "mimetype": "text/x-python",
   "name": "python",
   "nbconvert_exporter": "python",
   "pygments_lexer": "ipython2",
   "version": "2.7.10"
  }
 },
 "nbformat": 4,
 "nbformat_minor": 0
}
