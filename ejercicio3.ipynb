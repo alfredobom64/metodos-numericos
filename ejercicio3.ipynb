{
 "cells": [
  {
   "cell_type": "code",
   "execution_count": 29,
   "metadata": {
    "collapsed": false
   },
   "outputs": [
    {
     "name": "stdout",
     "output_type": "stream",
     "text": [
      "digite el orden que desea 5\n",
      "0.500000304\n"
     ]
    }
   ],
   "source": [
    "import math\n",
    "#math.pi\n",
    "x =(math.pi/4)\n",
    "y = (math.pi/12)\n",
    "orden = (int(input('digite el orden que desea ')))\n",
    "#x= input('digite x')\n",
    "cos = (math.cos(x))\n",
    "sen = (math.sin(x))\n",
    "#def f(x,orden):\n",
    "if orden >= 0:\n",
    "    can = cos\n",
    "    #print can\n",
    "    if orden >= 1:\n",
    "        can =  (can -(sen*y))\n",
    "        if orden >= 2:\n",
    "            can = (can-((cos*(y**2))/2))\n",
    "            if orden >= 3:\n",
    "                can = (can +(sen*(y**3))/6)\n",
    "                if orden >= 4:\n",
    "                    can = (can+(cos*(y**4))/24)\n",
    "                    if orden >= 5:\n",
    "                        can = (can-((sen*(y**5))/120))\n",
    "                        if orden >= 6:\n",
    "                            can = (can-((cos*(y**6))/720))\n",
    "                            if orden >= 7:\n",
    "                                k = 'el orden supera las espectativas'\n",
    "                            print k\n",
    "                        else:\n",
    "                            print can\n",
    "                    else:\n",
    "                        print can\n",
    "                           \n",
    "                else:\n",
    "                    print can\n",
    "            else:\n",
    "                print can\n",
    "        else:\n",
    "            print can\n",
    "    else:\n",
    "        print can\n",
    "                \n",
    "else:\n",
    "    print can\n",
    "    #fo = ((fun)-(fu*h)-((fun*(h**2))/2)+((fu*(h**3))/6)+((fun*(h**4))/24)-((fu*(h**5))/120)-((fun*(h**6))/720))\n",
    "    #return f"
   ]
  },
  {
   "cell_type": "code",
   "execution_count": 21,
   "metadata": {
    "collapsed": false
   },
   "outputs": [
    {
     "name": "stdout",
     "output_type": "stream",
     "text": [
      "16\n"
     ]
    }
   ],
   "source": [
    "a=2**4\n",
    "print a"
   ]
  },
  {
   "cell_type": "code",
   "execution_count": null,
   "metadata": {
    "collapsed": true
   },
   "outputs": [],
   "source": []
  }
 ],
 "metadata": {
  "kernelspec": {
   "display_name": "Python 2",
   "language": "python",
   "name": "python2"
  },
  "language_info": {
   "codemirror_mode": {
    "name": "ipython",
    "version": 2
   },
   "file_extension": ".py",
   "mimetype": "text/x-python",
   "name": "python",
   "nbconvert_exporter": "python",
   "pygments_lexer": "ipython2",
   "version": "2.7.10"
  }
 },
 "nbformat": 4,
 "nbformat_minor": 0
}
