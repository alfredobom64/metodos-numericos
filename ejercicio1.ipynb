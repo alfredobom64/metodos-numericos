{
 "cells": [
  {
   "cell_type": "code",
   "execution_count": 1,
   "metadata": {
    "collapsed": false,
    "scrolled": false
   },
   "outputs": [
    {
     "name": "stdout",
     "output_type": "stream",
     "text": [
      "digite el orden2\n",
      "digite x3\n",
      "3\n",
      "-16.2\n",
      "-48.8\n"
     ]
    }
   ],
   "source": [
    "\n",
    "# coding: utf-8\n",
    "\n",
    "# In[18]:\n",
    "\n",
    "import math\n",
    "orden = input('digite el orden')\n",
    "x= input('digite x')\n",
    "a = (-0.1*x**4)\n",
    "b = (0.15*x**3)\n",
    "c = (0.5*x**2)\n",
    "d = (0.25*x)\n",
    "e = (1.2)\n",
    "m = (0)\n",
    "print x\n",
    "f = ((a)-(b)-(c)-(d) + e)\n",
    "print f\n",
    "g = f + ((-0.4*x**3)-(0.45 * x ** 2) -  x- 0.25)\n",
    "h = g + ((-1.2*x**2)-0.90*x-1)\n",
    "i = h + (2.4*x-0.90)\n",
    "j = i + (-2.4)\n",
    "m = (0.2 - f)\n",
    "if orden == 0:\n",
    "    print f\n",
    "    print m\n",
    "if orden == 1:\n",
    "    print g\n",
    "if orden == 2:\n",
    "    print h\n",
    "if orden == 3:\n",
    "    print i\n",
    "if orden == 4:\n",
    "    print j"
   ]
  },
  {
   "cell_type": "code",
   "execution_count": null,
   "metadata": {
    "collapsed": true
   },
   "outputs": [],
   "source": []
  }
 ],
 "metadata": {
  "kernelspec": {
   "display_name": "Python 2",
   "language": "python",
   "name": "python2"
  },
  "language_info": {
   "codemirror_mode": {
    "name": "ipython",
    "version": 2
   },
   "file_extension": ".py",
   "mimetype": "text/x-python",
   "name": "python",
   "nbconvert_exporter": "python",
   "pygments_lexer": "ipython2",
   "version": "2.7.10"
  }
 },
 "nbformat": 4,
 "nbformat_minor": 0
}
